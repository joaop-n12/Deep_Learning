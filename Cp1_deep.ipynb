{
  "cells": [
    {
      "cell_type": "markdown",
      "metadata": {
        "id": "view-in-github",
        "colab_type": "text"
      },
      "source": [
        "<a href=\"https://colab.research.google.com/github/joaop-n12/Deep_Learning/blob/main/Cp1_deep.ipynb\" target=\"_parent\"><img src=\"https://colab.research.google.com/assets/colab-badge.svg\" alt=\"Open In Colab\"/></a>"
      ]
    },
    {
      "cell_type": "markdown",
      "source": [
        "# **EX. 1**"
      ],
      "metadata": {
        "id": "adUrw7Jo-Por"
      }
    },
    {
      "cell_type": "code",
      "source": [
        "def inteseção(list1, list2):\n",
        "    lista_num_comum = []\n",
        "    for num in list1:\n",
        "        if num in list2:\n",
        "            lista_num_comum.append(num)\n",
        "    return lista_num_comum\n",
        "\n",
        "\n",
        "lista1 = [23, 46, 5, 15, 8, 52, 30, 33, 44, 2, 59, 20, 48, 11, 7, 40, 27, 60, 19]\n",
        "lista2 = [3, 14, 27, 35, 42, 8, 56, 12, 48, 19, 30, 53, 21, 46, 60, 7, 25, 39, 50]\n",
        "resultado = inteseção(lista1, lista2)\n",
        "print(resultado)"
      ],
      "outputs": [
        {
          "output_type": "stream",
          "name": "stdout",
          "text": "[46, 8, 30, 48, 7, 27, 60, 19]\n"
        }
      ],
      "execution_count": null,
      "metadata": {
        "colab": {
          "base_uri": "https://localhost:8080/"
        },
        "id": "VdJpvrCP43X1",
        "outputId": "78889aa3-2887-41e3-e3a2-ecf84434d97f"
      }
    },
    {
      "cell_type": "markdown",
      "source": [
        "# **EX. 2**"
      ],
      "metadata": {
        "id": "jsaoJhpO-WIq"
      }
    },
    {
      "cell_type": "code",
      "source": [
        "def vencedor(numeros_sorteados, cartelas):\n",
        "    sorteados_set = set(numeros_sorteados)\n",
        "\n",
        "    vencedores = 0\n",
        "\n",
        "    for cartela in cartelas:\n",
        "\n",
        "        cartela_set = set(cartela)\n",
        "\n",
        "        if sorteados_set == sorteados_set.intersection(cartela_set):\n",
        "            vencedores += 1\n",
        "\n",
        "    return vencedores\n",
        "\n",
        "numeros_sorteados = [3, 7]\n",
        "cartelas = [\n",
        "    [1, 3, 5, 7],\n",
        "    [3, 7, 9, 10],\n",
        "    [2, 4, 6, 8],\n",
        "    [3, 7, 7, 7],\n",
        "]\n",
        "\n",
        "resultado = vencedor(numeros_sorteados, cartelas)\n",
        "print(f'O numero de vencedores são: {resultado}')"
      ],
      "outputs": [
        {
          "output_type": "stream",
          "name": "stdout",
          "text": "O numero de vencedores são: 3\n"
        }
      ],
      "execution_count": null,
      "metadata": {
        "colab": {
          "base_uri": "https://localhost:8080/"
        },
        "id": "UxS2AxSb-B_i",
        "outputId": "f56651d7-2227-4f08-80b0-034335448678"
      }
    },
    {
      "cell_type": "markdown",
      "source": [
        "# **EX. 3**"
      ],
      "metadata": {
        "id": "pk5NJzJB-aNC"
      }
    },
    {
      "cell_type": "code",
      "source": [
        "def contar_divisores_pares(n):\n",
        "    if n <= 1:\n",
        "        raise ValueError(\"O número deve ser maior que 1.\")\n",
        "\n",
        "    quantidade = 0\n",
        "    for i in range(2, n+1, 2):\n",
        "        if n % i == 0:\n",
        "            quantidade += 1\n",
        "\n",
        "    return quantidade\n",
        "\n",
        "numero = 10\n",
        "print(f\"numero de divisores pares de {numero} são: {contar_divisores_pares(numero)}\")"
      ],
      "outputs": [
        {
          "output_type": "stream",
          "name": "stdout",
          "text": "numero de divisores pares de 10 são: 2\n"
        }
      ],
      "execution_count": null,
      "metadata": {
        "colab": {
          "base_uri": "https://localhost:8080/"
        },
        "id": "chrcJEo--iYb",
        "outputId": "95095b40-151a-4172-be08-c73bce773819"
      }
    },
    {
      "cell_type": "markdown",
      "source": [
        "# **EX. 4**"
      ],
      "metadata": {
        "id": "S6AwVDDA-eJb"
      }
    },
    {
      "cell_type": "code",
      "source": [
        "import pandas as pd\n",
        "import matplotlib.pyplot as plt\n",
        "df = pd.read_csv('/home/CardioGoodFitness.csv')\n",
        "df"
      ],
      "outputs": [
        {
          "output_type": "execute_result",
          "execution_count": 87,
          "data": {
            "text/plain": "    Product  Age  Gender  Education MaritalStatus  Usage  Fitness  Income  \\\n0     TM195   18    Male         14        Single      3        4   29562   \n1     TM195   19    Male         15        Single      2        3   31836   \n2     TM195   19  Female         14     Partnered      4        3   30699   \n3     TM195   19    Male         12        Single      3        3   32973   \n4     TM195   20    Male         13     Partnered      4        2   35247   \n..      ...  ...     ...        ...           ...    ...      ...     ...   \n175   TM798   40    Male         21        Single      6        5   83416   \n176   TM798   42    Male         18        Single      5        4   89641   \n177   TM798   45    Male         16        Single      5        5   90886   \n178   TM798   47    Male         18     Partnered      4        5  104581   \n179   TM798   48    Male         18     Partnered      4        5   95508   \n\n     Miles  \n0      112  \n1       75  \n2       66  \n3       85  \n4       47  \n..     ...  \n175    200  \n176    200  \n177    160  \n178    120  \n179    180  \n\n[180 rows x 9 columns]",
            "text/html": "\n  <div id=\"df-8cc2cd83-595b-4f8a-9a4e-21261f367cbd\" class=\"colab-df-container\">\n    <div>\n<style scoped>\n    .dataframe tbody tr th:only-of-type {\n        vertical-align: middle;\n    }\n\n    .dataframe tbody tr th {\n        vertical-align: top;\n    }\n\n    .dataframe thead th {\n        text-align: right;\n    }\n</style>\n<table border=\"1\" class=\"dataframe\">\n  <thead>\n    <tr style=\"text-align: right;\">\n      <th></th>\n      <th>Product</th>\n      <th>Age</th>\n      <th>Gender</th>\n      <th>Education</th>\n      <th>MaritalStatus</th>\n      <th>Usage</th>\n      <th>Fitness</th>\n      <th>Income</th>\n      <th>Miles</th>\n    </tr>\n  </thead>\n  <tbody>\n    <tr>\n      <th>0</th>\n      <td>TM195</td>\n      <td>18</td>\n      <td>Male</td>\n      <td>14</td>\n      <td>Single</td>\n      <td>3</td>\n      <td>4</td>\n      <td>29562</td>\n      <td>112</td>\n    </tr>\n    <tr>\n      <th>1</th>\n      <td>TM195</td>\n      <td>19</td>\n      <td>Male</td>\n      <td>15</td>\n      <td>Single</td>\n      <td>2</td>\n      <td>3</td>\n      <td>31836</td>\n      <td>75</td>\n    </tr>\n    <tr>\n      <th>2</th>\n      <td>TM195</td>\n      <td>19</td>\n      <td>Female</td>\n      <td>14</td>\n      <td>Partnered</td>\n      <td>4</td>\n      <td>3</td>\n      <td>30699</td>\n      <td>66</td>\n    </tr>\n    <tr>\n      <th>3</th>\n      <td>TM195</td>\n      <td>19</td>\n      <td>Male</td>\n      <td>12</td>\n      <td>Single</td>\n      <td>3</td>\n      <td>3</td>\n      <td>32973</td>\n      <td>85</td>\n    </tr>\n    <tr>\n      <th>4</th>\n      <td>TM195</td>\n      <td>20</td>\n      <td>Male</td>\n      <td>13</td>\n      <td>Partnered</td>\n      <td>4</td>\n      <td>2</td>\n      <td>35247</td>\n      <td>47</td>\n    </tr>\n    <tr>\n      <th>...</th>\n      <td>...</td>\n      <td>...</td>\n      <td>...</td>\n      <td>...</td>\n      <td>...</td>\n      <td>...</td>\n      <td>...</td>\n      <td>...</td>\n      <td>...</td>\n    </tr>\n    <tr>\n      <th>175</th>\n      <td>TM798</td>\n      <td>40</td>\n      <td>Male</td>\n      <td>21</td>\n      <td>Single</td>\n      <td>6</td>\n      <td>5</td>\n      <td>83416</td>\n      <td>200</td>\n    </tr>\n    <tr>\n      <th>176</th>\n      <td>TM798</td>\n      <td>42</td>\n      <td>Male</td>\n      <td>18</td>\n      <td>Single</td>\n      <td>5</td>\n      <td>4</td>\n      <td>89641</td>\n      <td>200</td>\n    </tr>\n    <tr>\n      <th>177</th>\n      <td>TM798</td>\n      <td>45</td>\n      <td>Male</td>\n      <td>16</td>\n      <td>Single</td>\n      <td>5</td>\n      <td>5</td>\n      <td>90886</td>\n      <td>160</td>\n    </tr>\n    <tr>\n      <th>178</th>\n      <td>TM798</td>\n      <td>47</td>\n      <td>Male</td>\n      <td>18</td>\n      <td>Partnered</td>\n      <td>4</td>\n      <td>5</td>\n      <td>104581</td>\n      <td>120</td>\n    </tr>\n    <tr>\n      <th>179</th>\n      <td>TM798</td>\n      <td>48</td>\n      <td>Male</td>\n      <td>18</td>\n      <td>Partnered</td>\n      <td>4</td>\n      <td>5</td>\n      <td>95508</td>\n      <td>180</td>\n    </tr>\n  </tbody>\n</table>\n<p>180 rows × 9 columns</p>\n</div>\n    <div class=\"colab-df-buttons\">\n\n  <div class=\"colab-df-container\">\n    <button class=\"colab-df-convert\" onclick=\"convertToInteractive('df-8cc2cd83-595b-4f8a-9a4e-21261f367cbd')\"\n            title=\"Convert this dataframe to an interactive table.\"\n            style=\"display:none;\">\n\n  <svg xmlns=\"http://www.w3.org/2000/svg\" height=\"24px\" viewBox=\"0 -960 960 960\">\n    <path d=\"M120-120v-720h720v720H120Zm60-500h600v-160H180v160Zm220 220h160v-160H400v160Zm0 220h160v-160H400v160ZM180-400h160v-160H180v160Zm440 0h160v-160H620v160ZM180-180h160v-160H180v160Zm440 0h160v-160H620v160Z\"/>\n  </svg>\n    </button>\n\n  <style>\n    .colab-df-container {\n      display:flex;\n      gap: 12px;\n    }\n\n    .colab-df-convert {\n      background-color: #E8F0FE;\n      border: none;\n      border-radius: 50%;\n      cursor: pointer;\n      display: none;\n      fill: #1967D2;\n      height: 32px;\n      padding: 0 0 0 0;\n      width: 32px;\n    }\n\n    .colab-df-convert:hover {\n      background-color: #E2EBFA;\n      box-shadow: 0px 1px 2px rgba(60, 64, 67, 0.3), 0px 1px 3px 1px rgba(60, 64, 67, 0.15);\n      fill: #174EA6;\n    }\n\n    .colab-df-buttons div {\n      margin-bottom: 4px;\n    }\n\n    [theme=dark] .colab-df-convert {\n      background-color: #3B4455;\n      fill: #D2E3FC;\n    }\n\n    [theme=dark] .colab-df-convert:hover {\n      background-color: #434B5C;\n      box-shadow: 0px 1px 3px 1px rgba(0, 0, 0, 0.15);\n      filter: drop-shadow(0px 1px 2px rgba(0, 0, 0, 0.3));\n      fill: #FFFFFF;\n    }\n  </style>\n\n    <script>\n      const buttonEl =\n        document.querySelector('#df-8cc2cd83-595b-4f8a-9a4e-21261f367cbd button.colab-df-convert');\n      buttonEl.style.display =\n        google.colab.kernel.accessAllowed ? 'block' : 'none';\n\n      async function convertToInteractive(key) {\n        const element = document.querySelector('#df-8cc2cd83-595b-4f8a-9a4e-21261f367cbd');\n        const dataTable =\n          await google.colab.kernel.invokeFunction('convertToInteractive',\n                                                    [key], {});\n        if (!dataTable) return;\n\n        const docLinkHtml = 'Like what you see? Visit the ' +\n          '<a target=\"_blank\" href=https://colab.research.google.com/notebooks/data_table.ipynb>data table notebook</a>'\n          + ' to learn more about interactive tables.';\n        element.innerHTML = '';\n        dataTable['output_type'] = 'display_data';\n        await google.colab.output.renderOutput(dataTable, element);\n        const docLink = document.createElement('div');\n        docLink.innerHTML = docLinkHtml;\n        element.appendChild(docLink);\n      }\n    </script>\n  </div>\n\n\n<div id=\"df-0fa94448-c7b0-4f34-81b9-4c8459a30b80\">\n  <button class=\"colab-df-quickchart\" onclick=\"quickchart('df-0fa94448-c7b0-4f34-81b9-4c8459a30b80')\"\n            title=\"Suggest charts\"\n            style=\"display:none;\">\n\n<svg xmlns=\"http://www.w3.org/2000/svg\" height=\"24px\"viewBox=\"0 0 24 24\"\n     width=\"24px\">\n    <g>\n        <path d=\"M19 3H5c-1.1 0-2 .9-2 2v14c0 1.1.9 2 2 2h14c1.1 0 2-.9 2-2V5c0-1.1-.9-2-2-2zM9 17H7v-7h2v7zm4 0h-2V7h2v10zm4 0h-2v-4h2v4z\"/>\n    </g>\n</svg>\n  </button>\n\n<style>\n  .colab-df-quickchart {\n      --bg-color: #E8F0FE;\n      --fill-color: #1967D2;\n      --hover-bg-color: #E2EBFA;\n      --hover-fill-color: #174EA6;\n      --disabled-fill-color: #AAA;\n      --disabled-bg-color: #DDD;\n  }\n\n  [theme=dark] .colab-df-quickchart {\n      --bg-color: #3B4455;\n      --fill-color: #D2E3FC;\n      --hover-bg-color: #434B5C;\n      --hover-fill-color: #FFFFFF;\n      --disabled-bg-color: #3B4455;\n      --disabled-fill-color: #666;\n  }\n\n  .colab-df-quickchart {\n    background-color: var(--bg-color);\n    border: none;\n    border-radius: 50%;\n    cursor: pointer;\n    display: none;\n    fill: var(--fill-color);\n    height: 32px;\n    padding: 0;\n    width: 32px;\n  }\n\n  .colab-df-quickchart:hover {\n    background-color: var(--hover-bg-color);\n    box-shadow: 0 1px 2px rgba(60, 64, 67, 0.3), 0 1px 3px 1px rgba(60, 64, 67, 0.15);\n    fill: var(--button-hover-fill-color);\n  }\n\n  .colab-df-quickchart-complete:disabled,\n  .colab-df-quickchart-complete:disabled:hover {\n    background-color: var(--disabled-bg-color);\n    fill: var(--disabled-fill-color);\n    box-shadow: none;\n  }\n\n  .colab-df-spinner {\n    border: 2px solid var(--fill-color);\n    border-color: transparent;\n    border-bottom-color: var(--fill-color);\n    animation:\n      spin 1s steps(1) infinite;\n  }\n\n  @keyframes spin {\n    0% {\n      border-color: transparent;\n      border-bottom-color: var(--fill-color);\n      border-left-color: var(--fill-color);\n    }\n    20% {\n      border-color: transparent;\n      border-left-color: var(--fill-color);\n      border-top-color: var(--fill-color);\n    }\n    30% {\n      border-color: transparent;\n      border-left-color: var(--fill-color);\n      border-top-color: var(--fill-color);\n      border-right-color: var(--fill-color);\n    }\n    40% {\n      border-color: transparent;\n      border-right-color: var(--fill-color);\n      border-top-color: var(--fill-color);\n    }\n    60% {\n      border-color: transparent;\n      border-right-color: var(--fill-color);\n    }\n    80% {\n      border-color: transparent;\n      border-right-color: var(--fill-color);\n      border-bottom-color: var(--fill-color);\n    }\n    90% {\n      border-color: transparent;\n      border-bottom-color: var(--fill-color);\n    }\n  }\n</style>\n\n  <script>\n    async function quickchart(key) {\n      const quickchartButtonEl =\n        document.querySelector('#' + key + ' button');\n      quickchartButtonEl.disabled = true;  // To prevent multiple clicks.\n      quickchartButtonEl.classList.add('colab-df-spinner');\n      try {\n        const charts = await google.colab.kernel.invokeFunction(\n            'suggestCharts', [key], {});\n      } catch (error) {\n        console.error('Error during call to suggestCharts:', error);\n      }\n      quickchartButtonEl.classList.remove('colab-df-spinner');\n      quickchartButtonEl.classList.add('colab-df-quickchart-complete');\n    }\n    (() => {\n      let quickchartButtonEl =\n        document.querySelector('#df-0fa94448-c7b0-4f34-81b9-4c8459a30b80 button');\n      quickchartButtonEl.style.display =\n        google.colab.kernel.accessAllowed ? 'block' : 'none';\n    })();\n  </script>\n</div>\n\n  <div id=\"id_7f5ec688-3533-481a-9271-92be17343ef7\">\n    <style>\n      .colab-df-generate {\n        background-color: #E8F0FE;\n        border: none;\n        border-radius: 50%;\n        cursor: pointer;\n        display: none;\n        fill: #1967D2;\n        height: 32px;\n        padding: 0 0 0 0;\n        width: 32px;\n      }\n\n      .colab-df-generate:hover {\n        background-color: #E2EBFA;\n        box-shadow: 0px 1px 2px rgba(60, 64, 67, 0.3), 0px 1px 3px 1px rgba(60, 64, 67, 0.15);\n        fill: #174EA6;\n      }\n\n      [theme=dark] .colab-df-generate {\n        background-color: #3B4455;\n        fill: #D2E3FC;\n      }\n\n      [theme=dark] .colab-df-generate:hover {\n        background-color: #434B5C;\n        box-shadow: 0px 1px 3px 1px rgba(0, 0, 0, 0.15);\n        filter: drop-shadow(0px 1px 2px rgba(0, 0, 0, 0.3));\n        fill: #FFFFFF;\n      }\n    </style>\n    <button class=\"colab-df-generate\" onclick=\"generateWithVariable('df')\"\n            title=\"Generate code using this dataframe.\"\n            style=\"display:none;\">\n\n  <svg xmlns=\"http://www.w3.org/2000/svg\" height=\"24px\"viewBox=\"0 0 24 24\"\n       width=\"24px\">\n    <path d=\"M7,19H8.4L18.45,9,17,7.55,7,17.6ZM5,21V16.75L18.45,3.32a2,2,0,0,1,2.83,0l1.4,1.43a1.91,1.91,0,0,1,.58,1.4,1.91,1.91,0,0,1-.58,1.4L9.25,21ZM18.45,9,17,7.55Zm-12,3A5.31,5.31,0,0,0,4.9,8.1,5.31,5.31,0,0,0,1,6.5,5.31,5.31,0,0,0,4.9,4.9,5.31,5.31,0,0,0,6.5,1,5.31,5.31,0,0,0,8.1,4.9,5.31,5.31,0,0,0,12,6.5,5.46,5.46,0,0,0,6.5,12Z\"/>\n  </svg>\n    </button>\n    <script>\n      (() => {\n      const buttonEl =\n        document.querySelector('#id_7f5ec688-3533-481a-9271-92be17343ef7 button.colab-df-generate');\n      buttonEl.style.display =\n        google.colab.kernel.accessAllowed ? 'block' : 'none';\n\n      buttonEl.onclick = () => {\n        google.colab.notebook.generateWithVariable('df');\n      }\n      })();\n    </script>\n  </div>\n\n    </div>\n  </div>\n",
            "application/vnd.google.colaboratory.intrinsic+json": {
              "type": "dataframe",
              "variable_name": "df",
              "summary": "{\n  \"name\": \"df\",\n  \"rows\": 180,\n  \"fields\": [\n    {\n      \"column\": \"Product\",\n      \"properties\": {\n        \"dtype\": \"category\",\n        \"num_unique_values\": 3,\n        \"samples\": [\n          \"TM195\",\n          \"TM498\",\n          \"TM798\"\n        ],\n        \"semantic_type\": \"\",\n        \"description\": \"\"\n      }\n    },\n    {\n      \"column\": \"Age\",\n      \"properties\": {\n        \"dtype\": \"number\",\n        \"std\": 6,\n        \"min\": 18,\n        \"max\": 50,\n        \"num_unique_values\": 32,\n        \"samples\": [\n          45,\n          33,\n          43\n        ],\n        \"semantic_type\": \"\",\n        \"description\": \"\"\n      }\n    },\n    {\n      \"column\": \"Gender\",\n      \"properties\": {\n        \"dtype\": \"category\",\n        \"num_unique_values\": 2,\n        \"samples\": [\n          \"Female\",\n          \"Male\"\n        ],\n        \"semantic_type\": \"\",\n        \"description\": \"\"\n      }\n    },\n    {\n      \"column\": \"Education\",\n      \"properties\": {\n        \"dtype\": \"number\",\n        \"std\": 1,\n        \"min\": 12,\n        \"max\": 21,\n        \"num_unique_values\": 8,\n        \"samples\": [\n          15,\n          18\n        ],\n        \"semantic_type\": \"\",\n        \"description\": \"\"\n      }\n    },\n    {\n      \"column\": \"MaritalStatus\",\n      \"properties\": {\n        \"dtype\": \"category\",\n        \"num_unique_values\": 2,\n        \"samples\": [\n          \"Partnered\",\n          \"Single\"\n        ],\n        \"semantic_type\": \"\",\n        \"description\": \"\"\n      }\n    },\n    {\n      \"column\": \"Usage\",\n      \"properties\": {\n        \"dtype\": \"number\",\n        \"std\": 1,\n        \"min\": 2,\n        \"max\": 7,\n        \"num_unique_values\": 6,\n        \"samples\": [\n          3,\n          2\n        ],\n        \"semantic_type\": \"\",\n        \"description\": \"\"\n      }\n    },\n    {\n      \"column\": \"Fitness\",\n      \"properties\": {\n        \"dtype\": \"number\",\n        \"std\": 0,\n        \"min\": 1,\n        \"max\": 5,\n        \"num_unique_values\": 5,\n        \"samples\": [\n          3,\n          5\n        ],\n        \"semantic_type\": \"\",\n        \"description\": \"\"\n      }\n    },\n    {\n      \"column\": \"Income\",\n      \"properties\": {\n        \"dtype\": \"number\",\n        \"std\": 16506,\n        \"min\": 29562,\n        \"max\": 104581,\n        \"num_unique_values\": 62,\n        \"samples\": [\n          88396,\n          103336\n        ],\n        \"semantic_type\": \"\",\n        \"description\": \"\"\n      }\n    },\n    {\n      \"column\": \"Miles\",\n      \"properties\": {\n        \"dtype\": \"number\",\n        \"std\": 51,\n        \"min\": 21,\n        \"max\": 360,\n        \"num_unique_values\": 37,\n        \"samples\": [\n          95,\n          169\n        ],\n        \"semantic_type\": \"\",\n        \"description\": \"\"\n      }\n    }\n  ]\n}"
            }
          },
          "metadata": {}
        }
      ],
      "execution_count": null,
      "metadata": {
        "colab": {
          "base_uri": "https://localhost:8080/",
          "height": 424
        },
        "id": "oAnU3OgB-Gva",
        "outputId": "41f33293-dcd9-43bc-9630-3410eca155ca"
      }
    },
    {
      "cell_type": "markdown",
      "source": [
        "**ex. A**"
      ],
      "metadata": {
        "id": "pchr4WsnFvTw"
      }
    },
    {
      "cell_type": "code",
      "source": [
        "maiores_21 = df[df['Education'] < 21]['Education']\n",
        "contar_acima_21 = maiores_21.count()\n",
        "media = maiores_21.mean()\n",
        "mediana = maiores_21.median()\n",
        "\n",
        "print(contar_acima_21)\n",
        "print(media)\n",
        "print(mediana)"
      ],
      "outputs": [
        {
          "output_type": "stream",
          "name": "stdout",
          "text": "177\n15.480225988700566\n16.0\n"
        }
      ],
      "execution_count": null,
      "metadata": {
        "colab": {
          "base_uri": "https://localhost:8080/"
        },
        "id": "1Z9hZATgEqZv",
        "outputId": "3ae4505f-7d80-4071-9348-c7dcbd80b39c"
      }
    },
    {
      "cell_type": "markdown",
      "source": [
        "**ex. B**"
      ],
      "metadata": {
        "id": "oXw0W5w7F2ip"
      }
    },
    {
      "cell_type": "code",
      "source": [
        "homens_mais_15 = df[(df['Gender'] == 'Male') & (df['Education'] > 15)]\n",
        "homens_2x = homens_mais_15[homens_mais_15['Usage'] > 2]\n",
        "porcentagem = (len(homens_2x) / len(homens_mais_15)) * 100\n",
        "\n",
        "print(f'Porcentagem de homens que usam a esteira mais de 2 vezes por semana: {porcentagem:.2f}%')\n"
      ],
      "outputs": [
        {
          "output_type": "stream",
          "name": "stdout",
          "text": "Porcentagem de homens que usam a esteira mais de 2 vezes por semana: 91.30%\n"
        }
      ],
      "execution_count": null,
      "metadata": {
        "colab": {
          "base_uri": "https://localhost:8080/"
        },
        "id": "x7Ee-4CkF4V-",
        "outputId": "3a93ce64-99c4-4e74-e065-7c4bb905389c"
      }
    },
    {
      "cell_type": "markdown",
      "source": [
        "**ex. C**"
      ],
      "metadata": {
        "id": "9lwxkqoRILhL"
      }
    },
    {
      "cell_type": "code",
      "source": [
        "filtrados = df[(df['Age'] > 30) & (df['Income'] < 40000)]\n",
        "\n",
        "contar_homens = filtrados[filtrados['Gender'] == 'Male'].shape[0]\n",
        "contar_mulheres = filtrados[filtrados['Gender'] == 'Female'].shape[0]\n",
        "\n",
        "if contar_homens > contar_mulheres:\n",
        "    resultado = 'Homens'\n",
        "elif contar_mulheres > contar_homens:\n",
        "    resultado = 'Mulheres'\n",
        "else:\n",
        "    resultado = 'São iguais'\n",
        "\n",
        "print(f'qntd homens: {contar_homens}')\n",
        "print(f'qntd mulheres: {contar_mulheres}')\n",
        "print(f'existem mais {resultado}')"
      ],
      "outputs": [
        {
          "output_type": "stream",
          "name": "stdout",
          "text": "qntd homens: 0\nqntd mulheres: 1\nexistem mais Mulheres\n"
        }
      ],
      "execution_count": null,
      "metadata": {
        "colab": {
          "base_uri": "https://localhost:8080/"
        },
        "id": "0eHSncmNIN9B",
        "outputId": "e63bd401-5b7c-4318-fe5b-6285ae186bd0"
      }
    },
    {
      "cell_type": "markdown",
      "source": [
        "**ex. D**"
      ],
      "metadata": {
        "id": "HV99QqLkJf0h"
      }
    },
    {
      "cell_type": "code",
      "source": [
        "bins = [0, 10, 20, 30, 40, 50]\n",
        "labels = ['0-10 anos', '11-20 anos', '21-30 anos', '31-40 anos', '41-50 anos']\n",
        "df['AgeGroup'] = pd.cut(df['Age'], bins=bins, labels=labels, right=False)\n",
        "faixa_contagem = df['AgeGroup'].value_counts().sort_index()\n",
        "\n",
        "faixa_contagem.plot(kind='bar', color='skyblue', edgecolor='blue')\n",
        "\n",
        "plt.title('Qntd de Observações de Cada Faixa Etária')\n",
        "plt.xlabel('Faixa Etária')\n",
        "plt.ylabel('Número de Observações')\n",
        "plt.xticks(rotation=45)\n",
        "plt.grid(axis='y', linestyle='--', alpha=0.7)\n",
        "plt.tight_layout()\n",
        "\n",
        "plt.show()"
      ],
      "outputs": [
        {
          "output_type": "display_data",
          "data": {
            "text/plain": "<Figure size 640x480 with 1 Axes>",
            "image/png": "[encoded data removed]"
          },
          "metadata": {}
        }
      ],
      "execution_count": null,
      "metadata": {
        "colab": {
          "base_uri": "https://localhost:8080/",
          "height": 487
        },
        "id": "XUUxYqw4JjTu",
        "outputId": "1a6586a0-65c0-4691-d803-925611522b98"
      }
    },
    {
      "cell_type": "markdown",
      "source": [
        "**ex. E**"
      ],
      "metadata": {
        "id": "Kjv9es7LKyVS"
      }
    },
    {
      "cell_type": "code",
      "source": [
        "bins = [0, 10, 20, 30, 40, 50]  # Define as faixas de idade\n",
        "labels = ['0-10 anos', '11-20 anos', '21-30 anos', '31-40 anos', '41-50 anos']  # Labels para as faixas\n",
        "\n",
        "df['AgeGroup'] = pd.cut(df['Age'], bins=bins, labels=labels, right=False)\n",
        "\n",
        "faixa_21_30 = df[df['AgeGroup'] == '21-30 anos']\n",
        "media_fitness_homens = faixa_21_30[faixa_21_30['Gender'] == 'Male']['Fitness'].mean()\n",
        "media_fitness_mulheres = faixa_21_30[faixa_21_30['Gender'] == 'Female']['Fitness'].mean()\n",
        "\n",
        "if media_fitness_homens > media_fitness_mulheres:\n",
        "    resultado = 'Homens'\n",
        "elif media_fitness_mulheres > media_fitness_homens:\n",
        "    resultado = 'Mulheres'\n",
        "else:\n",
        "    resultado = 'Igual'\n",
        "\n",
        "print(f'A maior média fitness é de {resultado}')"
      ],
      "outputs": [
        {
          "output_type": "stream",
          "name": "stdout",
          "text": "A maior média fitness é de Homens\n"
        }
      ],
      "execution_count": null,
      "metadata": {
        "colab": {
          "base_uri": "https://localhost:8080/"
        },
        "id": "LE5LICeAK1ZW",
        "outputId": "ef304d09-1113-4b1c-889f-baeae7e36b4e"
      }
    },
    {
      "cell_type": "markdown",
      "source": [
        "# **EX. 5**"
      ],
      "metadata": {
        "id": "2NNYq0gogHMM"
      }
    },
    {
      "cell_type": "code",
      "source": [
        "import pandas as pd\n",
        "df = pd.read_csv('/home/sorteios.csv')\n",
        "df"
      ],
      "outputs": [
        {
          "output_type": "execute_result",
          "execution_count": 143,
          "data": {
            "text/plain": "        Id  Concurso Data Sorteio  1ª Dezena  2ª Dezena  3ª Dezena  4ª Dezena  \\\n0        1         1   11/03/1996         41          5          4         52   \n1        2         2   18/03/1996          9         39         37         49   \n2        3         3   25/03/1996         36         30         10         11   \n3        4         3   25/03/1996         36         30         10         11   \n4        5         4   01/04/1996          6         59         42         27   \n...    ...       ...          ...        ...        ...        ...        ...   \n2273  2274      2058   11/07/2018         19          4         23         29   \n2274  2275      2059   14/07/2018          5          4         36         56   \n2275  2276      2060   18/07/2018         11         39         41          9   \n2276  2277      2061   21/07/2018         33         45         44         40   \n2277  2278      2062   25/07/2018          8         15         34         25   \n\n      5ª Dezena  6ª Dezena Arrecadacao_Total  ...    Rateio_Sena  \\\n0            30         33              0,00  ...           0,00   \n1            43         41              0,00  ...   2.307.162,23   \n2            29         47              0,00  ...     391.192,51   \n3            29         47              0,00  ...     391.192,51   \n4             1          5              0,00  ...           0,00   \n...         ...        ...               ...  ...            ...   \n2273         59         56     42.911.631,00  ...           0,00   \n2274         40         44     53.294.356,50  ...           0,00   \n2275         25          8     62.764.250,50  ...           0,00   \n2276         36         54     73.680.040,00  ...           0,00   \n2277         10         23     90.343.582,00  ...  73.450.153,75   \n\n     Ganhadores_Quina Rateio_Quina Ganhadores_Quadra  Rateio_Quadra Acumulado  \\\n0                  17    39.158,92              2016         330,21       SIM   \n1                  65    14.424,02              4488         208,91       NÃO   \n2                  62    10.515,93              4261         153,01       NÃO   \n3                  62    10.515,93              4261         153,01       NÃO   \n4                  39    15.322,24              3311         180,48       SIM   \n...               ...          ...               ...            ...       ...   \n2273               81    30.543,83              5435         650,29       SIM   \n2274               77    39.904,70              5562         789,19       SIM   \n2275              186    19.455,08              8570         603,20       SIM   \n2276               93    45.677,31              6899         879,62       SIM   \n2277              192    27.128,74             13804         539,04       NÃO   \n\n      Valor_Acumulado Estimativa_Prêmio Acumulado_Mega_da_Virada Unnamed: 22  \n0        1.714.650,23              0,00                     0,00         NaN  \n1                0,00              0,00                     0,00         NaN  \n2                0,00              0,00                     0,00         NaN  \n3                0,00              0,00                     0,00         NaN  \n4          717.080,75              0,00                     0,00         NaN  \n...               ...               ...                      ...         ...  \n2273    31.279.809,85     34.000.000,00            36.707.938,23         NaN  \n2274    49.363.979,62     56.000.000,00            37.516.533,48         NaN  \n2275    56.029.903,37     62.000.000,00            38.468.808,32         NaN  \n2276    63.855.146,65     72.000.000,00            39.586.700,23         NaN  \n2277             0,00      3.000.000,00            40.957.415,53         NaN  \n\n[2278 rows x 23 columns]",
            "text/html": "\n  <div id=\"df-96898c16-075b-4d77-8eaa-4790ba72f464\" class=\"colab-df-container\">\n    <div>\n<style scoped>\n    .dataframe tbody tr th:only-of-type {\n        vertical-align: middle;\n    }\n\n    .dataframe tbody tr th {\n        vertical-align: top;\n    }\n\n    .dataframe thead th {\n        text-align: right;\n    }\n</style>\n<table border=\"1\" class=\"dataframe\">\n  <thead>\n    <tr style=\"text-align: right;\">\n      <th></th>\n      <th>Id</th>\n      <th>Concurso</th>\n      <th>Data Sorteio</th>\n      <th>1ª Dezena</th>\n      <th>2ª Dezena</th>\n      <th>3ª Dezena</th>\n      <th>4ª Dezena</th>\n      <th>5ª Dezena</th>\n      <th>6ª Dezena</th>\n      <th>Arrecadacao_Total</th>\n      <th>...</th>\n      <th>Rateio_Sena</th>\n      <th>Ganhadores_Quina</th>\n      <th>Rateio_Quina</th>\n      <th>Ganhadores_Quadra</th>\n      <th>Rateio_Quadra</th>\n      <th>Acumulado</th>\n      <th>Valor_Acumulado</th>\n      <th>Estimativa_Prêmio</th>\n      <th>Acumulado_Mega_da_Virada</th>\n      <th>Unnamed: 22</th>\n    </tr>\n  </thead>\n  <tbody>\n    <tr>\n      <th>0</th>\n      <td>1</td>\n      <td>1</td>\n      <td>11/03/1996</td>\n      <td>41</td>\n      <td>5</td>\n      <td>4</td>\n      <td>52</td>\n      <td>30</td>\n      <td>33</td>\n      <td>0,00</td>\n      <td>...</td>\n      <td>0,00</td>\n      <td>17</td>\n      <td>39.158,92</td>\n      <td>2016</td>\n      <td>330,21</td>\n      <td>SIM</td>\n      <td>1.714.650,23</td>\n      <td>0,00</td>\n      <td>0,00</td>\n      <td>NaN</td>\n    </tr>\n    <tr>\n      <th>1</th>\n      <td>2</td>\n      <td>2</td>\n      <td>18/03/1996</td>\n      <td>9</td>\n      <td>39</td>\n      <td>37</td>\n      <td>49</td>\n      <td>43</td>\n      <td>41</td>\n      <td>0,00</td>\n      <td>...</td>\n      <td>2.307.162,23</td>\n      <td>65</td>\n      <td>14.424,02</td>\n      <td>4488</td>\n      <td>208,91</td>\n      <td>NÃO</td>\n      <td>0,00</td>\n      <td>0,00</td>\n      <td>0,00</td>\n      <td>NaN</td>\n    </tr>\n    <tr>\n      <th>2</th>\n      <td>3</td>\n      <td>3</td>\n      <td>25/03/1996</td>\n      <td>36</td>\n      <td>30</td>\n      <td>10</td>\n      <td>11</td>\n      <td>29</td>\n      <td>47</td>\n      <td>0,00</td>\n      <td>...</td>\n      <td>391.192,51</td>\n      <td>62</td>\n      <td>10.515,93</td>\n      <td>4261</td>\n      <td>153,01</td>\n      <td>NÃO</td>\n      <td>0,00</td>\n      <td>0,00</td>\n      <td>0,00</td>\n      <td>NaN</td>\n    </tr>\n    <tr>\n      <th>3</th>\n      <td>4</td>\n      <td>3</td>\n      <td>25/03/1996</td>\n      <td>36</td>\n      <td>30</td>\n      <td>10</td>\n      <td>11</td>\n      <td>29</td>\n      <td>47</td>\n      <td>0,00</td>\n      <td>...</td>\n      <td>391.192,51</td>\n      <td>62</td>\n      <td>10.515,93</td>\n      <td>4261</td>\n      <td>153,01</td>\n      <td>NÃO</td>\n      <td>0,00</td>\n      <td>0,00</td>\n      <td>0,00</td>\n      <td>NaN</td>\n    </tr>\n    <tr>\n      <th>4</th>\n      <td>5</td>\n      <td>4</td>\n      <td>01/04/1996</td>\n      <td>6</td>\n      <td>59</td>\n      <td>42</td>\n      <td>27</td>\n      <td>1</td>\n      <td>5</td>\n      <td>0,00</td>\n      <td>...</td>\n      <td>0,00</td>\n      <td>39</td>\n      <td>15.322,24</td>\n      <td>3311</td>\n      <td>180,48</td>\n      <td>SIM</td>\n      <td>717.080,75</td>\n      <td>0,00</td>\n      <td>0,00</td>\n      <td>NaN</td>\n    </tr>\n    <tr>\n      <th>...</th>\n      <td>...</td>\n      <td>...</td>\n      <td>...</td>\n      <td>...</td>\n      <td>...</td>\n      <td>...</td>\n      <td>...</td>\n      <td>...</td>\n      <td>...</td>\n      <td>...</td>\n      <td>...</td>\n      <td>...</td>\n      <td>...</td>\n      <td>...</td>\n      <td>...</td>\n      <td>...</td>\n      <td>...</td>\n      <td>...</td>\n      <td>...</td>\n      <td>...</td>\n      <td>...</td>\n    </tr>\n    <tr>\n      <th>2273</th>\n      <td>2274</td>\n      <td>2058</td>\n      <td>11/07/2018</td>\n      <td>19</td>\n      <td>4</td>\n      <td>23</td>\n      <td>29</td>\n      <td>59</td>\n      <td>56</td>\n      <td>42.911.631,00</td>\n      <td>...</td>\n      <td>0,00</td>\n      <td>81</td>\n      <td>30.543,83</td>\n      <td>5435</td>\n      <td>650,29</td>\n      <td>SIM</td>\n      <td>31.279.809,85</td>\n      <td>34.000.000,00</td>\n      <td>36.707.938,23</td>\n      <td>NaN</td>\n    </tr>\n    <tr>\n      <th>2274</th>\n      <td>2275</td>\n      <td>2059</td>\n      <td>14/07/2018</td>\n      <td>5</td>\n      <td>4</td>\n      <td>36</td>\n      <td>56</td>\n      <td>40</td>\n      <td>44</td>\n      <td>53.294.356,50</td>\n      <td>...</td>\n      <td>0,00</td>\n      <td>77</td>\n      <td>39.904,70</td>\n      <td>5562</td>\n      <td>789,19</td>\n      <td>SIM</td>\n      <td>49.363.979,62</td>\n      <td>56.000.000,00</td>\n      <td>37.516.533,48</td>\n      <td>NaN</td>\n    </tr>\n    <tr>\n      <th>2275</th>\n      <td>2276</td>\n      <td>2060</td>\n      <td>18/07/2018</td>\n      <td>11</td>\n      <td>39</td>\n      <td>41</td>\n      <td>9</td>\n      <td>25</td>\n      <td>8</td>\n      <td>62.764.250,50</td>\n      <td>...</td>\n      <td>0,00</td>\n      <td>186</td>\n      <td>19.455,08</td>\n      <td>8570</td>\n      <td>603,20</td>\n      <td>SIM</td>\n      <td>56.029.903,37</td>\n      <td>62.000.000,00</td>\n      <td>38.468.808,32</td>\n      <td>NaN</td>\n    </tr>\n    <tr>\n      <th>2276</th>\n      <td>2277</td>\n      <td>2061</td>\n      <td>21/07/2018</td>\n      <td>33</td>\n      <td>45</td>\n      <td>44</td>\n      <td>40</td>\n      <td>36</td>\n      <td>54</td>\n      <td>73.680.040,00</td>\n      <td>...</td>\n      <td>0,00</td>\n      <td>93</td>\n      <td>45.677,31</td>\n      <td>6899</td>\n      <td>879,62</td>\n      <td>SIM</td>\n      <td>63.855.146,65</td>\n      <td>72.000.000,00</td>\n      <td>39.586.700,23</td>\n      <td>NaN</td>\n    </tr>\n    <tr>\n      <th>2277</th>\n      <td>2278</td>\n      <td>2062</td>\n      <td>25/07/2018</td>\n      <td>8</td>\n      <td>15</td>\n      <td>34</td>\n      <td>25</td>\n      <td>10</td>\n      <td>23</td>\n      <td>90.343.582,00</td>\n      <td>...</td>\n      <td>73.450.153,75</td>\n      <td>192</td>\n      <td>27.128,74</td>\n      <td>13804</td>\n      <td>539,04</td>\n      <td>NÃO</td>\n      <td>0,00</td>\n      <td>3.000.000,00</td>\n      <td>40.957.415,53</td>\n      <td>NaN</td>\n    </tr>\n  </tbody>\n</table>\n<p>2278 rows × 23 columns</p>\n</div>\n    <div class=\"colab-df-buttons\">\n\n  <div class=\"colab-df-container\">\n    <button class=\"colab-df-convert\" onclick=\"convertToInteractive('df-96898c16-075b-4d77-8eaa-4790ba72f464')\"\n            title=\"Convert this dataframe to an interactive table.\"\n            style=\"display:none;\">\n\n  <svg xmlns=\"http://www.w3.org/2000/svg\" height=\"24px\" viewBox=\"0 -960 960 960\">\n    <path d=\"M120-120v-720h720v720H120Zm60-500h600v-160H180v160Zm220 220h160v-160H400v160Zm0 220h160v-160H400v160ZM180-400h160v-160H180v160Zm440 0h160v-160H620v160ZM180-180h160v-160H180v160Zm440 0h160v-160H620v160Z\"/>\n  </svg>\n    </button>\n\n  <style>\n    .colab-df-container {\n      display:flex;\n      gap: 12px;\n    }\n\n    .colab-df-convert {\n      background-color: #E8F0FE;\n      border: none;\n      border-radius: 50%;\n      cursor: pointer;\n      display: none;\n      fill: #1967D2;\n      height: 32px;\n      padding: 0 0 0 0;\n      width: 32px;\n    }\n\n    .colab-df-convert:hover {\n      background-color: #E2EBFA;\n      box-shadow: 0px 1px 2px rgba(60, 64, 67, 0.3), 0px 1px 3px 1px rgba(60, 64, 67, 0.15);\n      fill: #174EA6;\n    }\n\n    .colab-df-buttons div {\n      margin-bottom: 4px;\n    }\n\n    [theme=dark] .colab-df-convert {\n      background-color: #3B4455;\n      fill: #D2E3FC;\n    }\n\n    [theme=dark] .colab-df-convert:hover {\n      background-color: #434B5C;\n      box-shadow: 0px 1px 3px 1px rgba(0, 0, 0, 0.15);\n      filter: drop-shadow(0px 1px 2px rgba(0, 0, 0, 0.3));\n      fill: #FFFFFF;\n    }\n  </style>\n\n    <script>\n      const buttonEl =\n        document.querySelector('#df-96898c16-075b-4d77-8eaa-4790ba72f464 button.colab-df-convert');\n      buttonEl.style.display =\n        google.colab.kernel.accessAllowed ? 'block' : 'none';\n\n      async function convertToInteractive(key) {\n        const element = document.querySelector('#df-96898c16-075b-4d77-8eaa-4790ba72f464');\n        const dataTable =\n          await google.colab.kernel.invokeFunction('convertToInteractive',\n                                                    [key], {});\n        if (!dataTable) return;\n\n        const docLinkHtml = 'Like what you see? Visit the ' +\n          '<a target=\"_blank\" href=https://colab.research.google.com/notebooks/data_table.ipynb>data table notebook</a>'\n          + ' to learn more about interactive tables.';\n        element.innerHTML = '';\n        dataTable['output_type'] = 'display_data';\n        await google.colab.output.renderOutput(dataTable, element);\n        const docLink = document.createElement('div');\n        docLink.innerHTML = docLinkHtml;\n        element.appendChild(docLink);\n      }\n    </script>\n  </div>\n\n\n<div id=\"df-52d25e65-faa9-46f5-8ee8-db4daf98f852\">\n  <button class=\"colab-df-quickchart\" onclick=\"quickchart('df-52d25e65-faa9-46f5-8ee8-db4daf98f852')\"\n            title=\"Suggest charts\"\n            style=\"display:none;\">\n\n<svg xmlns=\"http://www.w3.org/2000/svg\" height=\"24px\"viewBox=\"0 0 24 24\"\n     width=\"24px\">\n    <g>\n        <path d=\"M19 3H5c-1.1 0-2 .9-2 2v14c0 1.1.9 2 2 2h14c1.1 0 2-.9 2-2V5c0-1.1-.9-2-2-2zM9 17H7v-7h2v7zm4 0h-2V7h2v10zm4 0h-2v-4h2v4z\"/>\n    </g>\n</svg>\n  </button>\n\n<style>\n  .colab-df-quickchart {\n      --bg-color: #E8F0FE;\n      --fill-color: #1967D2;\n      --hover-bg-color: #E2EBFA;\n      --hover-fill-color: #174EA6;\n      --disabled-fill-color: #AAA;\n      --disabled-bg-color: #DDD;\n  }\n\n  [theme=dark] .colab-df-quickchart {\n      --bg-color: #3B4455;\n      --fill-color: #D2E3FC;\n      --hover-bg-color: #434B5C;\n      --hover-fill-color: #FFFFFF;\n      --disabled-bg-color: #3B4455;\n      --disabled-fill-color: #666;\n  }\n\n  .colab-df-quickchart {\n    background-color: var(--bg-color);\n    border: none;\n    border-radius: 50%;\n    cursor: pointer;\n    display: none;\n    fill: var(--fill-color);\n    height: 32px;\n    padding: 0;\n    width: 32px;\n  }\n\n  .colab-df-quickchart:hover {\n    background-color: var(--hover-bg-color);\n    box-shadow: 0 1px 2px rgba(60, 64, 67, 0.3), 0 1px 3px 1px rgba(60, 64, 67, 0.15);\n    fill: var(--button-hover-fill-color);\n  }\n\n  .colab-df-quickchart-complete:disabled,\n  .colab-df-quickchart-complete:disabled:hover {\n    background-color: var(--disabled-bg-color);\n    fill: var(--disabled-fill-color);\n    box-shadow: none;\n  }\n\n  .colab-df-spinner {\n    border: 2px solid var(--fill-color);\n    border-color: transparent;\n    border-bottom-color: var(--fill-color);\n    animation:\n      spin 1s steps(1) infinite;\n  }\n\n  @keyframes spin {\n    0% {\n      border-color: transparent;\n      border-bottom-color: var(--fill-color);\n      border-left-color: var(--fill-color);\n    }\n    20% {\n      border-color: transparent;\n      border-left-color: var(--fill-color);\n      border-top-color: var(--fill-color);\n    }\n    30% {\n      border-color: transparent;\n      border-left-color: var(--fill-color);\n      border-top-color: var(--fill-color);\n      border-right-color: var(--fill-color);\n    }\n    40% {\n      border-color: transparent;\n      border-right-color: var(--fill-color);\n      border-top-color: var(--fill-color);\n    }\n    60% {\n      border-color: transparent;\n      border-right-color: var(--fill-color);\n    }\n    80% {\n      border-color: transparent;\n      border-right-color: var(--fill-color);\n      border-bottom-color: var(--fill-color);\n    }\n    90% {\n      border-color: transparent;\n      border-bottom-color: var(--fill-color);\n    }\n  }\n</style>\n\n  <script>\n    async function quickchart(key) {\n      const quickchartButtonEl =\n        document.querySelector('#' + key + ' button');\n      quickchartButtonEl.disabled = true;  // To prevent multiple clicks.\n      quickchartButtonEl.classList.add('colab-df-spinner');\n      try {\n        const charts = await google.colab.kernel.invokeFunction(\n            'suggestCharts', [key], {});\n      } catch (error) {\n        console.error('Error during call to suggestCharts:', error);\n      }\n      quickchartButtonEl.classList.remove('colab-df-spinner');\n      quickchartButtonEl.classList.add('colab-df-quickchart-complete');\n    }\n    (() => {\n      let quickchartButtonEl =\n        document.querySelector('#df-52d25e65-faa9-46f5-8ee8-db4daf98f852 button');\n      quickchartButtonEl.style.display =\n        google.colab.kernel.accessAllowed ? 'block' : 'none';\n    })();\n  </script>\n</div>\n\n  <div id=\"id_b172449e-a6b1-4a96-bfe1-94deb9213708\">\n    <style>\n      .colab-df-generate {\n        background-color: #E8F0FE;\n        border: none;\n        border-radius: 50%;\n        cursor: pointer;\n        display: none;\n        fill: #1967D2;\n        height: 32px;\n        padding: 0 0 0 0;\n        width: 32px;\n      }\n\n      .colab-df-generate:hover {\n        background-color: #E2EBFA;\n        box-shadow: 0px 1px 2px rgba(60, 64, 67, 0.3), 0px 1px 3px 1px rgba(60, 64, 67, 0.15);\n        fill: #174EA6;\n      }\n\n      [theme=dark] .colab-df-generate {\n        background-color: #3B4455;\n        fill: #D2E3FC;\n      }\n\n      [theme=dark] .colab-df-generate:hover {\n        background-color: #434B5C;\n        box-shadow: 0px 1px 3px 1px rgba(0, 0, 0, 0.15);\n        filter: drop-shadow(0px 1px 2px rgba(0, 0, 0, 0.3));\n        fill: #FFFFFF;\n      }\n    </style>\n    <button class=\"colab-df-generate\" onclick=\"generateWithVariable('df')\"\n            title=\"Generate code using this dataframe.\"\n            style=\"display:none;\">\n\n  <svg xmlns=\"http://www.w3.org/2000/svg\" height=\"24px\"viewBox=\"0 0 24 24\"\n       width=\"24px\">\n    <path d=\"M7,19H8.4L18.45,9,17,7.55,7,17.6ZM5,21V16.75L18.45,3.32a2,2,0,0,1,2.83,0l1.4,1.43a1.91,1.91,0,0,1,.58,1.4,1.91,1.91,0,0,1-.58,1.4L9.25,21ZM18.45,9,17,7.55Zm-12,3A5.31,5.31,0,0,0,4.9,8.1,5.31,5.31,0,0,0,1,6.5,5.31,5.31,0,0,0,4.9,4.9,5.31,5.31,0,0,0,6.5,1,5.31,5.31,0,0,0,8.1,4.9,5.31,5.31,0,0,0,12,6.5,5.46,5.46,0,0,0,6.5,12Z\"/>\n  </svg>\n    </button>\n    <script>\n      (() => {\n      const buttonEl =\n        document.querySelector('#id_b172449e-a6b1-4a96-bfe1-94deb9213708 button.colab-df-generate');\n      buttonEl.style.display =\n        google.colab.kernel.accessAllowed ? 'block' : 'none';\n\n      buttonEl.onclick = () => {\n        google.colab.notebook.generateWithVariable('df');\n      }\n      })();\n    </script>\n  </div>\n\n    </div>\n  </div>\n",
            "application/vnd.google.colaboratory.intrinsic+json": {
              "type": "dataframe",
              "variable_name": "df"
            }
          },
          "metadata": {}
        }
      ],
      "execution_count": null,
      "metadata": {
        "colab": {
          "base_uri": "https://localhost:8080/",
          "height": 461
        },
        "id": "HPmshKNPgSK9",
        "outputId": "c3ef25a8-b21c-4962-8fd3-57a931b9b585"
      }
    },
    {
      "cell_type": "markdown",
      "source": [
        "**ex. A**"
      ],
      "metadata": {
        "id": "d60024aGhEi_"
      }
    },
    {
      "cell_type": "code",
      "source": [
        "todos_os_números = []\n",
        "\n",
        "for coluna in ['1ª Dezena', '2ª Dezena', '3ª Dezena', '4ª Dezena', '5ª Dezena', '6ª Dezena']:\n",
        "    todos_os_números.extend(df[coluna].tolist())\n",
        "\n",
        "\n",
        "números_series = pd.Series(todos_os_números)\n",
        "\n",
        "contagem = números_series.value_counts()\n",
        "\n",
        "número_mais_sorteado = contagem.idxmax()\n",
        "frequência = contagem.max()\n",
        "\n",
        "print(f\"O número mais sorteado é {número_mais_sorteado} e foi sorteado {frequência} vezes.\")"
      ],
      "outputs": [
        {
          "output_type": "stream",
          "name": "stdout",
          "text": "O número mais sorteado é 5 e foi sorteado 276 vezes.\n"
        }
      ],
      "execution_count": null,
      "metadata": {
        "colab": {
          "base_uri": "https://localhost:8080/"
        },
        "id": "HzCLpoa4gfD9",
        "outputId": "03b63ef1-ecdc-4e90-e722-0cef8198b0f0"
      }
    },
    {
      "cell_type": "markdown",
      "source": [
        "**ex. D**"
      ],
      "metadata": {
        "id": "A5tTxYOQhu33"
      }
    },
    {
      "cell_type": "code",
      "source": [
        "todos_os_números = []\n",
        "\n",
        "for coluna in ['1ª Dezena', '2ª Dezena', '3ª Dezena', '4ª Dezena', '5ª Dezena', '6ª Dezena']:\n",
        "    todos_os_números.extend(df[coluna].tolist())\n",
        "\n",
        "\n",
        "números_series = pd.Series(todos_os_números)\n",
        "\n",
        "contagem = números_series.value_counts()\n",
        "\n",
        "número_menos_sorteado = contagem.idxmin()\n",
        "\n",
        "print(f\"O número menos sorteado é {número_menos_sorteado}.\")"
      ],
      "outputs": [
        {
          "output_type": "stream",
          "name": "stdout",
          "text": "O número menos sorteado é 26.\n"
        }
      ],
      "execution_count": null,
      "metadata": {
        "colab": {
          "base_uri": "https://localhost:8080/"
        },
        "id": "PaRlVAk7giab",
        "outputId": "ea70dcf9-bb9e-457d-d065-c93437b08755"
      }
    },
    {
      "cell_type": "markdown",
      "source": [
        "# **EX. 6 Perceptron**"
      ],
      "metadata": {
        "id": "BblG_AfoR3CI"
      }
    },
    {
      "cell_type": "code",
      "source": [
        "import pandas as pd\n",
        "from sklearn.model_selection import train_test_split\n",
        "from sklearn.preprocessing import StandardScaler, LabelEncoder\n",
        "from sklearn.linear_model import Perceptron\n",
        "from sklearn.metrics import accuracy_score, confusion_matrix\n",
        "import numpy as np\n",
        "\n",
        "df = pd.read_csv('/home/CardioGoodFitness.csv')\n",
        "\n",
        "df_encoded = pd.get_dummies(df, drop_first=True)\n",
        "label_encoder = LabelEncoder()\n",
        "df_encoded['Gender'] = label_encoder.fit_transform(df['Gender'])\n",
        "X = df_encoded.drop('Gender', axis=1)\n",
        "y = df_encoded['Gender']\n",
        "\n",
        "X_train, X_test, y_train, y_test = train_test_split(X, y, test_size=0.3, random_state=42)\n",
        "\n",
        "scaler = StandardScaler()\n",
        "X_train = scaler.fit_transform(X_train)\n",
        "X_test = scaler.transform(X_test)\n",
        "\n",
        "max_iter = 1000\n",
        "perceptron = Perceptron(max_iter=max_iter, tol=1e-3, random_state=42)\n",
        "perceptron.fit(X_train, y_train)\n",
        "\n",
        "y_pred = perceptron.predict(X_test)"
      ],
      "outputs": [],
      "execution_count": null,
      "metadata": {
        "id": "hZtmUB1uSRSY"
      }
    },
    {
      "cell_type": "markdown",
      "source": [
        "**ex. A**"
      ],
      "metadata": {
        "id": "nZOaJwJwdinn"
      }
    },
    {
      "cell_type": "code",
      "source": [
        "pesos = perceptron.coef_\n",
        "n_iter = perceptron.n_iter_\n",
        "accuracy = accuracy_score(y_test, y_pred)\n",
        "matriz_confusao = confusion_matrix(y_test, y_pred)\n",
        "\n",
        "\n",
        "print(f'Pesos ajustados pelo modelo: {pesos}')\n",
        "print(f'Número de iterações até a convergência: {n_iter}')\n",
        "print(f'Acurácia do modelo: {accuracy:.2f}')\n",
        "print('Matriz de Confusão:')\n",
        "print(matriz_confusao)"
      ],
      "outputs": [
        {
          "output_type": "stream",
          "name": "stdout",
          "text": "Pesos ajustados pelo modelo: [[-1.16188065  1.62036504 -0.4626825   0.12508255 -0.57741348 -0.04084718\n   1.93792558  0.94135745  8.53105188  1.6546585 ]]\nNúmero de iterações até a convergência: 7\nAcurácia do modelo: 1.00\nMatriz de Confusão:\n[[28  0]\n [ 0 26]]\n"
        }
      ],
      "execution_count": null,
      "metadata": {
        "colab": {
          "base_uri": "https://localhost:8080/"
        },
        "id": "KoDJRVK6R6Sv",
        "outputId": "4c3c030a-e4c7-41c8-d9e7-cbc36bb4db2c"
      }
    },
    {
      "cell_type": "markdown",
      "source": [
        "**ex. B**"
      ],
      "metadata": {
        "id": "DgVg9rj6dvzw"
      }
    },
    {
      "cell_type": "code",
      "source": [
        "convergiu = n_iter < max_iter\n",
        "if convergiu:\n",
        "    print('O modelo alcançou convergência.')\n",
        "else:\n",
        "    print('O modelo não alcançou convergência.')"
      ],
      "outputs": [
        {
          "output_type": "stream",
          "name": "stdout",
          "text": "O modelo alcançou convergência.\n"
        }
      ],
      "execution_count": null,
      "metadata": {
        "colab": {
          "base_uri": "https://localhost:8080/"
        },
        "id": "hqS5rDhcUu2B",
        "outputId": "1ad382c9-1e9b-4749-8806-b20351bcf471"
      }
    },
    {
      "cell_type": "markdown",
      "source": [
        "**ex. C**"
      ],
      "metadata": {
        "id": "Nhkprkbgdph4"
      }
    },
    {
      "cell_type": "code",
      "source": [
        "\"\"\"\n",
        "O conceito de convergência em relação a um algoritmo usando Perceptron, é quando o perceptron chaga a uma estabilidade,\n",
        "quando ele encontra uma solução de separação linear para os dados ou o erro de classificação não diminui mais\n",
        "significativamente após várias iterações, atingindo o critério de tolerância,\n",
        "\n",
        "e acima fizemos o código que diz que ocorreu sim, uma convergência.\n",
        "\"\"\"\n"
      ],
      "outputs": [],
      "execution_count": null,
      "metadata": {
        "id": "NoP1FRdXV5ID"
      }
    },
    {
      "cell_type": "markdown",
      "source": [
        "**ex. D**"
      ],
      "metadata": {
        "id": "jPguStUheLWo"
      }
    },
    {
      "cell_type": "code",
      "source": [
        "'''\n",
        "Analises da matriz de confusão: Todos os valores de FP e FN são zero, indicando que o modelo classificou todas as observações corretamente.\n",
        "Isso sugere um desempenho perfeito do modelo em termos de classificação, com uma acurácia de 100%.\n",
        "Com uma acurácia de 100% (já que não há erros de classificação), o modelo está classificando corretamente todas as observações como positivas\n",
        "ou negativas. Isso é um excelente resultado, indicando que o modelo está funcionando perfeitamente no conjunto de dados atual.\n",
        "A ausência de falsos positivos e falsos negativos sugere que o modelo não cometeu erros de classificação, o que é um resultado ideal.\n",
        "\n",
        "Possível Validação Cruzada: Para garantir que o modelo não está superajustado, é recomendável realizar validação cruzada com diferentes\n",
        "subconjuntos dos dados para confirmar que o desempenho é consistente.\n",
        "'''"
      ],
      "outputs": [],
      "execution_count": null,
      "metadata": {
        "id": "wECEZknmaf62"
      }
    }
  ],
  "metadata": {
    "colab": {
      "provenance": [],
      "include_colab_link": true
    },
    "kernelspec": {
      "name": "python",
      "language": "python",
      "display_name": "Pyolite (preview)"
    },
    "language_info": {
      "codemirror_mode": {
        "name": "python",
        "version": 3
      },
      "file_extension": ".py",
      "mimetype": "text/x-python",
      "name": "python",
      "nbconvert_exporter": "python",
      "pygments_lexer": "ipython3",
      "version": "3.8"
    },
    "kernel_info": {
      "name": "python"
    },
    "nteract": {
      "version": "nteract-front-end@1.0.0"
    }
  },
  "nbformat": 4,
  "nbformat_minor": 0
}