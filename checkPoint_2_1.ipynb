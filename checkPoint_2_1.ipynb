{
  "nbformat": 4,
  "nbformat_minor": 0,
  "metadata": {
    "colab": {
      "provenance": [],
      "include_colab_link": true
    },
    "kernelspec": {
      "name": "python3",
      "display_name": "Python 3"
    },
    "language_info": {
      "name": "python"
    }
  },
  "cells": [
    {
      "cell_type": "markdown",
      "metadata": {
        "id": "view-in-github",
        "colab_type": "text"
      },
      "source": [
        "<a href=\"https://colab.research.google.com/github/joaop-n12/Deep_Learning/blob/main/checkPoint_2_1.ipynb\" target=\"_parent\"><img src=\"https://colab.research.google.com/assets/colab-badge.svg\" alt=\"Open In Colab\"/></a>"
      ]
    },
    {
      "cell_type": "markdown",
      "source": [
        "# **i.**"
      ],
      "metadata": {
        "id": "EvBpwWdJqrhN"
      }
    },
    {
      "cell_type": "code",
      "execution_count": null,
      "metadata": {
        "colab": {
          "base_uri": "https://localhost:8080/"
        },
        "id": "c3rpOTjkbwnB",
        "outputId": "439f1fa9-52e8-4693-899c-b5807f1a79d3"
      },
      "outputs": [
        {
          "output_type": "stream",
          "name": "stdout",
          "text": [
            "Acurácia: 0.8747433264887063\n",
            "              precision    recall  f1-score   support\n",
            "\n",
            "           0       0.84      0.82      0.83       183\n",
            "           1       0.84      0.86      0.85       198\n",
            "           2       1.00      1.00      1.00       106\n",
            "\n",
            "    accuracy                           0.87       487\n",
            "   macro avg       0.89      0.89      0.89       487\n",
            "weighted avg       0.87      0.87      0.87       487\n",
            "\n"
          ]
        },
        {
          "output_type": "stream",
          "name": "stderr",
          "text": [
            "/usr/local/lib/python3.10/dist-packages/sklearn/neural_network/_multilayer_perceptron.py:690: ConvergenceWarning: Stochastic Optimizer: Maximum iterations (100) reached and the optimization hasn't converged yet.\n",
            "  warnings.warn(\n"
          ]
        }
      ],
      "source": [
        "import pandas as pd\n",
        "import numpy as np\n",
        "from sklearn.model_selection import train_test_split\n",
        "from sklearn.preprocessing import StandardScaler, LabelEncoder, OneHotEncoder\n",
        "from sklearn.metrics import classification_report, accuracy_score\n",
        "from sklearn.neural_network import MLPClassifier\n",
        "from sklearn.compose import ColumnTransformer\n",
        "\n",
        "data = pd.read_csv('/content/gym_members_exercise_tracking.csv')\n",
        "\n",
        "X = data.drop('Experience_Level', axis=1)\n",
        "y = data['Experience_Level']\n",
        "\n",
        "categorical_features = ['Gender', 'Workout_Type']\n",
        "numerical_features = X.drop(columns=categorical_features).columns\n",
        "\n",
        "preprocessor = ColumnTransformer(\n",
        "    transformers=[\n",
        "        ('num', StandardScaler(), numerical_features),\n",
        "        ('cat', OneHotEncoder(sparse_output=False, handle_unknown='ignore'), categorical_features),\n",
        "    ])\n",
        "\n",
        "X = preprocessor.fit_transform(X)\n",
        "\n",
        "le = LabelEncoder()\n",
        "y = le.fit_transform(y)\n",
        "\n",
        "X_train, X_test, y_train, y_test = train_test_split(X, y, test_size=0.5, random_state=42)\n",
        "\n",
        "model = MLPClassifier(hidden_layer_sizes=(20, 10, 10),\n",
        "                      max_iter= 100,\n",
        "                      alpha=0.001,\n",
        "                      solver='adam',\n",
        "                      learning_rate='adaptive',\n",
        "                      random_state=42)\n",
        "\n",
        "model.fit(X_train, y_train)\n",
        "\n",
        "y_pred = model.predict(X_test)\n",
        "accuracy = accuracy_score(y_test, y_pred)\n",
        "print(\"Acurácia:\", accuracy)\n",
        "print(classification_report(y_test, y_pred))"
      ]
    },
    {
      "cell_type": "markdown",
      "source": [
        "# **ii**"
      ],
      "metadata": {
        "id": "zMT2HWiCqyVN"
      }
    },
    {
      "cell_type": "code",
      "source": [
        "import pandas as pd\n",
        "import numpy as np\n",
        "from sklearn.model_selection import train_test_split\n",
        "from sklearn.preprocessing import StandardScaler, LabelEncoder\n",
        "from sklearn.metrics import classification_report, accuracy_score, r2_score\n",
        "from sklearn.neural_network import MLPClassifier, MLPRegressor\n",
        "from sklearn.compose import ColumnTransformer\n",
        "from sklearn.preprocessing import OneHotEncoder\n",
        "\n",
        "X = data.drop('Avg_BPM', axis=1)\n",
        "y = data['Avg_BPM']\n",
        "\n",
        "categorical_features = ['Gender', 'Workout_Type']\n",
        "numerical_features = X.drop(columns=categorical_features).columns\n",
        "\n",
        "preprocessor = ColumnTransformer(\n",
        "    transformers=[\n",
        "        ('num', StandardScaler(), numerical_features),\n",
        "        ('cat', OneHotEncoder(sparse_output=False, handle_unknown='ignore'), categorical_features),\n",
        "    ])\n",
        "\n",
        "X = preprocessor.fit_transform(X)\n",
        "\n",
        "X_train, X_test, y_train, y_test = train_test_split(X, y, test_size=0.8, random_state=42)\n",
        "\n",
        "model = MLPRegressor(hidden_layer_sizes=(20, 10, 10),\n",
        "                      max_iter= 1985,\n",
        "                      alpha=0.05,\n",
        "                      solver='adam',\n",
        "                      learning_rate='adaptive',\n",
        "                      random_state=42)\n",
        "\n",
        "model.fit(X_train, y_train)\n",
        "\n",
        "y_train_pred = model.predict(X_train)\n",
        "y_test_pred = model.predict(X_test)\n",
        "\n",
        "print(r2_score(y_train, y_train_pred))\n",
        "print(r2_score(y_test, y_test_pred))\n"
      ],
      "metadata": {
        "colab": {
          "base_uri": "https://localhost:8080/"
        },
        "id": "G8z_bZ2yow7Y",
        "outputId": "6a29b553-2c1e-4db6-bcbc-9c91bb05b507"
      },
      "execution_count": null,
      "outputs": [
        {
          "output_type": "stream",
          "name": "stdout",
          "text": [
            "0.8593967394036692\n",
            "0.5049687125544815\n"
          ]
        },
        {
          "output_type": "stream",
          "name": "stderr",
          "text": [
            "/usr/local/lib/python3.10/dist-packages/sklearn/neural_network/_multilayer_perceptron.py:690: ConvergenceWarning: Stochastic Optimizer: Maximum iterations (1985) reached and the optimization hasn't converged yet.\n",
            "  warnings.warn(\n"
          ]
        }
      ]
    }
  ]
}